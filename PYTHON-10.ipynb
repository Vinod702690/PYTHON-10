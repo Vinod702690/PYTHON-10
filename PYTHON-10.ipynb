{
 "cells": [
  {
   "cell_type": "code",
   "execution_count": null,
   "id": "988bf117-c644-4b06-96a4-7c2fbd555ead",
   "metadata": {},
   "outputs": [],
   "source": [
    "File Handling in Python"
   ]
  },
  {
   "cell_type": "code",
   "execution_count": 3,
   "id": "1ad68025-c8b7-49f2-ba81-f3e1c0f0ba3b",
   "metadata": {},
   "outputs": [
    {
     "name": "stdout",
     "output_type": "stream",
     "text": [
      "First Line\n",
      "Second Line\n",
      "Third Line\n",
      "\n"
     ]
    }
   ],
   "source": [
    "f = open(\"readme.md\", \"r\")\n",
    "\n",
    "print(f.read())  # read all content at once\n",
    "\n",
    "f.close()"
   ]
  },
  {
   "cell_type": "code",
   "execution_count": 4,
   "id": "5c0c75d3-ab3f-484e-90e8-bbb9ee7542ae",
   "metadata": {},
   "outputs": [
    {
     "name": "stdout",
     "output_type": "stream",
     "text": [
      "First chunk: Firs\n",
      "\n",
      "Second chunk: t Line\n",
      "Sec\n",
      "\n",
      "Third chunk: ond Line\n",
      "Third Line\n",
      "\n",
      "\n"
     ]
    }
   ],
   "source": [
    "f = open(\"readme.md\", \"r\")\n",
    "\n",
    "print(\"First chunk:\", f.read(4), end=\"\\n\\n\")    # read the first 4 characters\n",
    "print(\"Second chunk:\", f.read(10), end=\"\\n\\n\")  # read the next 10 character\n",
    "print(\"Third chunk:\", f.read(), end=\"\\n\\n\")     # read the remaining characters \n",
    "\n",
    "f.close()"
   ]
  },
  {
   "cell_type": "code",
   "execution_count": 5,
   "id": "cdc02f1e-d6e3-4e62-8a6b-56223ede441f",
   "metadata": {},
   "outputs": [
    {
     "name": "stdout",
     "output_type": "stream",
     "text": [
      "Ist line: First Line\n",
      "\n",
      "The first two characters in the 2nd line: Se\n",
      "\n",
      "Remaining characters in the 2nd line: cond Line\n",
      "\n",
      "3rd line: Third Line\n",
      "\n",
      "After end of file : \n"
     ]
    }
   ],
   "source": [
    "f = open(\"readme.md\", \"r\")\n",
    "\n",
    "# read first line\n",
    "print(\"Ist line:\", f.readline())  \n",
    "\n",
    "# read the fist two characters in the second line\n",
    "print(\"The first two characters in the 2nd line:\", f.read(2), end=\"\\n\\n\")\n",
    "\n",
    "# read the remaining characters int the second line\n",
    "print(\"Remaining characters in the 2nd line:\", f.readline())\n",
    "\n",
    "# read the next line\n",
    "print(\"3rd line:\", f.readline())  \n",
    "\n",
    "# end of the file reached, so readline returns an empty string \"\"\n",
    "print(\"After end of file :\", f.readline())  \n",
    "\n",
    "f.close()"
   ]
  },
  {
   "cell_type": "code",
   "execution_count": 6,
   "id": "7b6ad6af-327d-479e-b505-8d3bf6e7d1e6",
   "metadata": {},
   "outputs": [
    {
     "name": "stdout",
     "output_type": "stream",
     "text": [
      "['First Line\\n', 'Second Line\\n', 'Third Line\\n']\n"
     ]
    }
   ],
   "source": [
    "f = open(\"readme.md\", \"r\")\n",
    "\n",
    "# read all the line as return and them as a list of strings\n",
    "print(f.readlines())   \n",
    "\n",
    "f.close()"
   ]
  },
  {
   "cell_type": "code",
   "execution_count": 7,
   "id": "4c6e7cdc-3894-4eef-9c01-cb434379f8dc",
   "metadata": {},
   "outputs": [
    {
     "name": "stdout",
     "output_type": "stream",
     "text": [
      "First Line\n",
      "Second Line\n",
      "Third Line\n"
     ]
    }
   ],
   "source": [
    "f = open(\"readme.md\", \"r\")\n",
    "\n",
    "chunk = 10  # specify chunk size\n",
    "data = \"\"\n",
    "\n",
    "# keep looping until there is data in the file\n",
    "while True:\n",
    "    data = f.read(chunk)\n",
    "    print(data, end=\"\")\n",
    "\n",
    "    # if end of file is reached, break out of the while loop\n",
    "    if data == \"\":\n",
    "        break\n",
    "\n",
    "\n",
    "f.close()"
   ]
  },
  {
   "cell_type": "code",
   "execution_count": null,
   "id": "278415c1-2497-49ea-98c4-805cae7ab9aa",
   "metadata": {},
   "outputs": [],
   "source": [
    "Appending Data to the Text File"
   ]
  },
  {
   "cell_type": "code",
   "execution_count": 8,
   "id": "14082f27-f431-45ba-b0f6-736c05856893",
   "metadata": {},
   "outputs": [
    {
     "name": "stdout",
     "output_type": "stream",
     "text": [
      "Appending data to the end of the file ...\n",
      "Done!\n",
      "\n",
      "Opening the file again to read the data ...\n",
      "\n",
      "First Line\n",
      "Second Line\n",
      "Third Line\n",
      "Fourth Line\n",
      "Fifth Line\n"
     ]
    }
   ],
   "source": [
    "f = open(\"readme.md\", \"a\")\n",
    "\n",
    "print(\"Appending data to the end of the file ...\")\n",
    "f.write(\"Fourth Line\\n\")\n",
    "f.write(\"Fifth Line\\n\")\n",
    "print(\"Done!\")\n",
    "\n",
    "f.close()\n",
    "\n",
    "## open the file again\n",
    "\n",
    "print(\"\\nOpening the file again to read the data ...\\n\")\n",
    "\n",
    "f = open(\"readme.md\", \"r\")\n",
    "\n",
    "for line in f:\n",
    "    print(line, end=\"\")\n",
    "\n",
    "f.close()"
   ]
  },
  {
   "cell_type": "code",
   "execution_count": null,
   "id": "998198f3-366f-4937-9fa9-39dbeedd2f1b",
   "metadata": {},
   "outputs": [],
   "source": [
    "Working with files using the with statement"
   ]
  },
  {
   "cell_type": "code",
   "execution_count": 9,
   "id": "a7af9a17-80e4-4c1c-938a-e6080a4aca2a",
   "metadata": {},
   "outputs": [
    {
     "name": "stdout",
     "output_type": "stream",
     "text": [
      "First Line\n",
      "Second Line\n",
      "Third Line\n",
      "Fourth Line\n",
      "Fifth Line\n"
     ]
    }
   ],
   "source": [
    "with open(\"readme.md\", \"r\") as f:\n",
    "    for line in f:\n",
    "        print(line, end=\"\")"
   ]
  },
  {
   "cell_type": "code",
   "execution_count": 10,
   "id": "eb3dad8e-6145-455b-885d-51f534ffc915",
   "metadata": {},
   "outputs": [
    {
     "name": "stdout",
     "output_type": "stream",
     "text": [
      "First Line\n",
      "Second Line\n",
      "Third Line\n",
      "Fourth Line\n",
      "Fifth Line\n",
      "\n"
     ]
    }
   ],
   "source": [
    "with open(\"readme.md\", \"r\") as f:\n",
    "    print(f.read())\n"
   ]
  },
  {
   "cell_type": "code",
   "execution_count": 11,
   "id": "61668424-67c8-472d-bdc8-627f93a490be",
   "metadata": {},
   "outputs": [
    {
     "name": "stdout",
     "output_type": "stream",
     "text": [
      "First Line\n",
      "Second Line\n",
      "Third Line\n",
      "Fourth Line\n",
      "Fifth Line\n"
     ]
    }
   ],
   "source": [
    "with open(\"readme.md\", \"r\") as f:\n",
    "    chunk = 10  # specify chunk size\n",
    "    data = \"\"\n",
    "\n",
    "    # keep looping until there is data in the file\n",
    "    while True:\n",
    "        data = f.read(chunk)\n",
    "        print(data, end=\"\")\n",
    "\n",
    "        # if end of file is reached, break out of the while loop\n",
    "        if data == \"\":\n",
    "            break"
   ]
  },
  {
   "cell_type": "code",
   "execution_count": null,
   "id": "25da359d-b7f0-4d98-936b-12d2b227a601",
   "metadata": {},
   "outputs": [],
   "source": [
    "Exception Handling in Python"
   ]
  },
  {
   "cell_type": "code",
   "execution_count": 18,
   "id": "591f1ee3-5e9c-4c68-86fa-8ed44cf5f1a7",
   "metadata": {},
   "outputs": [
    {
     "name": "stdin",
     "output_type": "stream",
     "text": [
      "Enter a num1:  10\n",
      "Enter a num2:  0\n"
     ]
    },
    {
     "name": "stdout",
     "output_type": "stream",
     "text": [
      "\n",
      "Exception Handler for ZeroDivisionError\n",
      "We cant divide a number by 0\n"
     ]
    }
   ],
   "source": [
    "try:\n",
    "    num1 = int(input(\"Enter a num1: \"))\n",
    "    num2 = int(input(\"Enter a num2: \"))\n",
    "\n",
    "    result = num1 / num2\n",
    "    print(\"Result: \", result)\n",
    "\n",
    "except ZeroDivisionError:\n",
    "    print(\"\\nException Handler for ZeroDivisionError\")\n",
    "    print(\"We cant divide a number by 0\")\n",
    "\n",
    "except ValueError:\n",
    "    print(\"\\nException Handler for ValueError\")\n",
    "    print(\"Invalid input: Only integers are allowed\")\n",
    "\n",
    "except:\n",
    "    print(\"\\nSome unexpected error occurred\")\n",
    "\n"
   ]
  },
  {
   "cell_type": "code",
   "execution_count": 19,
   "id": "bea4158b-818c-4c55-877f-61adbb7710f8",
   "metadata": {},
   "outputs": [
    {
     "name": "stdin",
     "output_type": "stream",
     "text": [
      "Enter a num1:  5000\n",
      "Enter a num2:  2\n"
     ]
    },
    {
     "name": "stdout",
     "output_type": "stream",
     "text": [
      "Result:  2500.0\n"
     ]
    }
   ],
   "source": [
    "try:\n",
    "    num1 = int(input(\"Enter a num1: \"))\n",
    "    num2 = int(input(\"Enter a num2: \"))\n",
    "\n",
    "    result = num1 / num2\n",
    "    print(\"Result: \", result)\n",
    "\n",
    "except ZeroDivisionError:\n",
    "    print(\"\\nException Handler for ZeroDivisionError\")\n",
    "    print(\"We cant divide a number by 0\")\n",
    "\n",
    "except ValueError:\n",
    "    print(\"\\nException Handler for ValueError\")\n",
    "    print(\"Invalid input: Only integers are allowed\")\n",
    "\n",
    "except:\n",
    "    print(\"\\nSome unexpected error occurred\")"
   ]
  },
  {
   "cell_type": "code",
   "execution_count": 20,
   "id": "ec5f7042-cdce-4f47-9b03-889cdfd95fa6",
   "metadata": {},
   "outputs": [
    {
     "name": "stdin",
     "output_type": "stream",
     "text": [
      "Enter file name:  ../Chapter-18/readme.md\n"
     ]
    },
    {
     "name": "stdout",
     "output_type": "stream",
     "text": [
      "File not found\n"
     ]
    }
   ],
   "source": [
    "filename = input(\"Enter file name: \")\n",
    "\n",
    "try:\n",
    "    f = open(filename, \"r\")\n",
    "\n",
    "    for line in f:\n",
    "        print(line, end=\"\")\n",
    "\n",
    "    f.close()\n",
    "\n",
    "except FileNotFoundError:\n",
    "    print(\"File not found\")\n",
    "\n",
    "except PermissionError:\n",
    "    print(\"You don't have the permission to read the file\")\n",
    "\n",
    "except:\n",
    "    print(\"Unexpected error while reading the file\")"
   ]
  },
  {
   "cell_type": "code",
   "execution_count": 21,
   "id": "f040449e-3977-489f-99cc-792157f4164f",
   "metadata": {},
   "outputs": [
    {
     "name": "stdin",
     "output_type": "stream",
     "text": [
      "Enter file name:  terraform.txt\n"
     ]
    },
    {
     "name": "stdout",
     "output_type": "stream",
     "text": [
      "File not found\n"
     ]
    }
   ],
   "source": [
    "import os\n",
    "filename = input(\"Enter file name: \")\n",
    "\n",
    "try:\n",
    "    f = open(filename, \"r\")\n",
    "\n",
    "    for line in f:\n",
    "        print(line, end=\"\")\n",
    "\n",
    "    f.close()\n",
    "\n",
    "except FileNotFoundError:\n",
    "    print(\"File not found\")\n",
    "\n",
    "except PermissionError:\n",
    "    print(\"You don't have the permission to read the file\")\n",
    "\n",
    "except FileExistsError:\n",
    "    print(\"You don't have the permission to read the file\")\n",
    "\n",
    "except:\n",
    "    print(\"Unexpected error while reading the file\")\n",
    "\n",
    "else:\n",
    "    print(\"Program ran without any problem\")\n",
    "\n"
   ]
  },
  {
   "cell_type": "code",
   "execution_count": 22,
   "id": "326ae04b-eb27-46d6-b7b2-3872e66e7764",
   "metadata": {},
   "outputs": [
    {
     "name": "stdin",
     "output_type": "stream",
     "text": [
      "Enter file name:   ../Chapter-18/readme.md\n"
     ]
    },
    {
     "name": "stdout",
     "output_type": "stream",
     "text": [
      "File not found\n"
     ]
    }
   ],
   "source": [
    "import os\n",
    "filename = input(\"Enter file name: \")\n",
    "\n",
    "try:\n",
    "    f = open(filename, \"r\")\n",
    "\n",
    "    for line in f:\n",
    "        print(line, end=\"\")\n",
    "\n",
    "    f.close()\n",
    "\n",
    "except FileNotFoundError:\n",
    "    print(\"File not found\")\n",
    "\n",
    "except PermissionError:\n",
    "    print(\"You don't have the permission to read the file\")\n",
    "\n",
    "except FileExistsError:\n",
    "    print(\"You don't have the permission to read the file\")\n",
    "\n",
    "except:\n",
    "    print(\"Unexpected error while reading the file\")\n",
    "\n",
    "else:\n",
    "    print(\"Program ran without any problem\")"
   ]
  },
  {
   "cell_type": "code",
   "execution_count": 23,
   "id": "11127a3c-e63e-4ef6-bf1c-d7cae34f4366",
   "metadata": {},
   "outputs": [
    {
     "name": "stdin",
     "output_type": "stream",
     "text": [
      "Enter file name:   readme.md\n"
     ]
    },
    {
     "name": "stdout",
     "output_type": "stream",
     "text": [
      "File not found\n",
      "finally clause: This will always execute\n"
     ]
    }
   ],
   "source": [
    "import os\n",
    "filename = input(\"Enter file name: \")\n",
    "\n",
    "try:\n",
    "    f = open(filename, \"r\")\n",
    "\n",
    "    for line in f:\n",
    "        print(line, end=\"\")\n",
    "\n",
    "    f.close()\n",
    "\n",
    "except FileNotFoundError:\n",
    "    print(\"File not found\")\n",
    "\n",
    "except PermissionError:\n",
    "    print(\"You don't have the permission to read the file\")\n",
    "\n",
    "except FileExistsError:\n",
    "    print(\"You don't have the permission to read the file\")\n",
    "\n",
    "except:\n",
    "    print(\"Unexpected error while reading the file\")\n",
    "\n",
    "else:\n",
    "    print(\"\\nProgram ran without any problem\")\n",
    "\n",
    "finally:\n",
    "    print(\"finally clause: This will always execute\")\n",
    "\n"
   ]
  },
  {
   "cell_type": "code",
   "execution_count": null,
   "id": "1224dbaa-b54c-46d0-867d-1367dcf09a95",
   "metadata": {},
   "outputs": [],
   "source": [
    "xceptions Propagation and Raising Exceptions"
   ]
  },
  {
   "cell_type": "code",
   "execution_count": 24,
   "id": "0e05ad6c-4962-4bf7-8023-42ecb4435755",
   "metadata": {},
   "outputs": [
    {
     "name": "stdout",
     "output_type": "stream",
     "text": [
      "Factorial of 4 is: 24\n",
      "Invalid Input\n"
     ]
    }
   ],
   "source": [
    "def factorial(n):\n",
    "    if  not isinstance(n, int):\n",
    "        raise RuntimeError(\"Argument must be int\")\n",
    "\n",
    "    if n < 0:\n",
    "        raise RuntimeError(\"Argument must be >= 0\")\n",
    "\n",
    "    f = 1\n",
    "    for i in range(n):\n",
    "        f *= n\n",
    "        n -= 1\n",
    "\n",
    "    return f\n",
    "\n",
    "try:\n",
    "    print(\"Factorial of 4 is:\", factorial(4))\n",
    "    print(\"Factorial of 12 is:\", factorial(\"12\"))\n",
    "except RuntimeError:\n",
    "    print(\"Invalid Input\")"
   ]
  },
  {
   "cell_type": "code",
   "execution_count": null,
   "id": "6942277a-cb13-491b-a2a3-60687acaddce",
   "metadata": {},
   "outputs": [],
   "source": [
    "Accessing Exception Object"
   ]
  },
  {
   "cell_type": "code",
   "execution_count": 27,
   "id": "077caf08-1ed5-4853-929b-70376b1fb574",
   "metadata": {},
   "outputs": [
    {
     "name": "stdout",
     "output_type": "stream",
     "text": [
      "Factorial of 4 is: 24\n",
      "Error: Argument must be int\n"
     ]
    }
   ],
   "source": [
    "def factorial(n):\n",
    "    if not isinstance(n, int):\n",
    "        raise RuntimeError(\"Argument must be int\")\n",
    "\n",
    "    if n < 0:\n",
    "        raise RuntimeError(\"Argument must be >= 0\")\n",
    "\n",
    "    f = 1\n",
    "    for i in range(n):\n",
    "        f *= n\n",
    "        n -= 1\n",
    "\n",
    "    return f\n",
    "\n",
    "\n",
    "try:\n",
    "    print(\"Factorial of 4 is:\", factorial(4))\n",
    "    print(\"Factorial of 12 is:\", factorial(\"12\"))\n",
    "\n",
    "except RuntimeError as e:\n",
    "    print(\"Error:\", e)\n",
    "\n"
   ]
  },
  {
   "cell_type": "code",
   "execution_count": null,
   "id": "d6d29415-5819-4665-b2a6-51da7392b60b",
   "metadata": {},
   "outputs": [],
   "source": []
  }
 ],
 "metadata": {
  "kernelspec": {
   "display_name": "Python 3 (ipykernel)",
   "language": "python",
   "name": "python3"
  },
  "language_info": {
   "codemirror_mode": {
    "name": "ipython",
    "version": 3
   },
   "file_extension": ".py",
   "mimetype": "text/x-python",
   "name": "python",
   "nbconvert_exporter": "python",
   "pygments_lexer": "ipython3",
   "version": "3.12.3"
  }
 },
 "nbformat": 4,
 "nbformat_minor": 5
}
